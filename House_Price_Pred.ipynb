{
  "cells": [
    {
      "cell_type": "markdown",
      "id": "c00bf530",
      "metadata": {
        "id": "c00bf530"
      },
      "source": [
        "# Homework 5\n",
        "\n",
        "This homework asks you to perform various experiments with ensemble methods.\n",
        "\n",
        "The dataset is the same real estate dataset we previously used from:\n",
        "\n",
        "https://www.kaggle.com/datasets/mirbektoktogaraev/madrid-real-estate-market\n",
        "\n",
        "You will write code and discussion into code and text cells in this notebook.\n",
        "\n",
        "If a code block starts with TODO:, this means that you need to write something there.\n",
        "\n",
        "There are also markdown blocks with questions. Write the answers to these questions in the specified locations.\n",
        "\n",
        "Some code had been written for you to guide the project. Don't change the already written code.\n",
        "\n",
        "## Grading\n",
        "The points add up to 10. Extensive partial credit will be offered. Thus, make sure that you are at least attempting all problems.\n",
        "\n",
        "Make sure to comment your code, such that the grader can understand what different components are doing or attempting to do."
      ]
    },
    {
      "cell_type": "code",
      "execution_count": 1,
      "id": "a440a191",
      "metadata": {
        "id": "a440a191"
      },
      "outputs": [],
      "source": [
        "import numpy as np\n",
        "import pandas as pd\n",
        "import sklearn.linear_model\n",
        "import sklearn.metrics\n",
        "import sklearn.ensemble\n"
      ]
    },
    {
      "cell_type": "markdown",
      "id": "39cba7e7",
      "metadata": {
        "id": "39cba7e7"
      },
      "source": [
        "# A. Setup.\n",
        "\n",
        "In this project we are going to work in a multi-variable setting.\n",
        "\n",
        "This time, there are 7 explanatory variables: ``sq_mt_built``, ``n_rooms``, ``n_bathrooms``, ``is_renewal_needed``, ``is_new_development`` and ``has_fitted_wardrobes``.\n",
        "\n",
        "We will first create the training and test data while doing some minimal data cleaning."
      ]
    },
    {
      "cell_type": "code",
      "execution_count": 5,
      "id": "5f68a641",
      "metadata": {
        "colab": {
          "base_uri": "https://localhost:8080/"
        },
        "id": "5f68a641",
        "outputId": "ce6526b4-e6bd-4d1d-d708-70b1b0aabc7f"
      },
      "outputs": [
        {
          "output_type": "stream",
          "name": "stdout",
          "text": [
            "(9764, 7)\n",
            "Training data is composed of 8000 samples.\n",
            "Test data is composed of 1764 samples.\n"
          ]
        }
      ],
      "source": [
        "df = pd.read_csv(\"houses_Madrid.csv\")\n",
        "#print(f\"The columns of the database {df.columns}\")\n",
        "\n",
        "xfields = [\"sq_mt_built\", \"n_rooms\", \"n_bathrooms\", \"has_individual_heating\", \\\n",
        "           \"is_renewal_needed\", \"is_new_development\", \"has_fitted_wardrobes\"]\n",
        "yfield = [\"buy_price\"]\n",
        "# print (xfields + yfield)\n",
        "dfsel = df[xfields + yfield]\n",
        "dfselnona = dfsel.dropna()\n",
        "df_shuffled = dfselnona.sample(frac=1) # shuffle the rows\n",
        "x = df_shuffled[xfields].to_numpy(dtype=np.float64)\n",
        "y = df_shuffled[yfield].to_numpy(dtype=np.float64)\n",
        "print(x.shape)\n",
        "training_data_x = x[:8000]\n",
        "training_data_y = y[:8000]\n",
        "test_data_x = x[8000:]\n",
        "test_data_y = y[8000:]\n",
        "print(f\"Training data is composed of {len(training_data_x)} samples.\")\n",
        "print(f\"Test data is composed of {len(test_data_x)} samples.\")\n",
        "# print(test_data_x[45])"
      ]
    },
    {
      "cell_type": "markdown",
      "id": "395f2cfb",
      "metadata": {
        "id": "395f2cfb"
      },
      "source": [
        "# B. Creating a linear regression multi-variable baseline.\n",
        "\n",
        "In this section we make a linear regression predictor for the multi-variable case. We also check the performance of the resulting regressor, and print the error.\n",
        "\n",
        "This part is had been done for you, such that the work does not depend on you importing parts from the previous projects.\n",
        "\n",
        "You will need to adapt this for the other models."
      ]
    },
    {
      "cell_type": "code",
      "execution_count": 6,
      "id": "5b2cc6cc",
      "metadata": {
        "colab": {
          "base_uri": "https://localhost:8080/"
        },
        "id": "5b2cc6cc",
        "outputId": "7992be96-cc27-44b3-bb56-f5e7b99fefc4"
      },
      "outputs": [
        {
          "output_type": "stream",
          "name": "stdout",
          "text": [
            "House 45 with 58.0 sqmt was sold for [340000.] euros, but our system predicted 237474.00\n",
            "House 67 with 50.0 sqmt was sold for [295000.] euros, but our system predicted 205471.15\n",
            "House 170 with 162.0 sqmt was sold for [570000.] euros, but our system predicted 638787.34\n",
            "House 189 with 77.0 sqmt was sold for [390000.] euros, but our system predicted 366002.59\n",
            "House 207 with 80.0 sqmt was sold for [290000.] euros, but our system predicted 258236.29\n",
            "The mean square error of the linear regression is 380831.49 euro\n"
          ]
        }
      ],
      "source": [
        "# training the linear regressor\n",
        "regressor = sklearn.linear_model.LinearRegression()\n",
        "regressor.fit(training_data_x, training_data_y)\n",
        "# We will create the predictions yhat for every x from the training data. We will do this one at a time. This is not an efficient way to do it, but it allows you to write and debug functions that return a scalar number\n",
        "yhats = []\n",
        "for x in test_data_x:\n",
        "    yhat = regressor.predict([x])\n",
        "    yhats.append(yhat[0])\n",
        "\n",
        "# Now, print some examples of the quality of the classifier\n",
        "examples = [45, 67, 170, 189, 207]\n",
        "for i in examples:\n",
        "    x = test_data_x[i]\n",
        "    y = test_data_y[i]\n",
        "    yhat = regressor.predict([x])[0][0]\n",
        "    print(f\"House {i} with {x[0]} sqmt was sold for {y} euros, but our system predicted {yhat:.2f}\")\n",
        "\n",
        "# Now calculate the root mean square error on the resulting arrays\n",
        "error = sklearn.metrics.mean_squared_error(yhats, test_data_y, squared=False)\n",
        "print(f\"The mean square error of the linear regression is {error:.2f} euro\")"
      ]
    },
    {
      "cell_type": "markdown",
      "id": "85113c6b",
      "metadata": {
        "id": "85113c6b"
      },
      "source": [
        "# P1: Random Forest using sklearn (5 points)\n",
        "\n",
        "Use the RandomForestRegressor function from sklearn to predict the prices of the house. Print the resulting error and samples, similar to the way in Section B.\n",
        "\n",
        "Experiment with the settings of the hyperparameters: n_estimators (try at least values 10, 25, 100, 200) and max_depth (try at least values 1, 2, 4, 8, 16 and None).\n",
        "\n",
        "Retain the hyperparameter value that gives you the best result.\n",
        "\n"
      ]
    },
    {
      "cell_type": "code",
      "execution_count": 52,
      "id": "e9dcd129",
      "metadata": {
        "colab": {
          "base_uri": "https://localhost:8080/"
        },
        "id": "e9dcd129",
        "outputId": "9c70a04a-3552-45c9-9a07-baaf7df6f18b"
      },
      "outputs": [
        {
          "output_type": "stream",
          "name": "stdout",
          "text": [
            "House 45 with 58.0 sqmt was sold for [340000.] euros, but our system predicted 433963.63\n",
            "House 67 with 50.0 sqmt was sold for [295000.] euros, but our system predicted 433963.63\n",
            "House 170 with 162.0 sqmt was sold for [570000.] euros, but our system predicted 433963.63\n",
            "House 189 with 77.0 sqmt was sold for [390000.] euros, but our system predicted 433963.63\n",
            "House 207 with 80.0 sqmt was sold for [290000.] euros, but our system predicted 433963.63\n",
            "The mean square error of the random forest regression is 483348.31 euro\n",
            "House 45 with 58.0 sqmt was sold for [340000.] euros, but our system predicted 318394.98\n",
            "House 67 with 50.0 sqmt was sold for [295000.] euros, but our system predicted 318394.98\n",
            "House 170 with 162.0 sqmt was sold for [570000.] euros, but our system predicted 758232.50\n",
            "House 189 with 77.0 sqmt was sold for [390000.] euros, but our system predicted 318394.98\n",
            "House 207 with 80.0 sqmt was sold for [290000.] euros, but our system predicted 318394.98\n",
            "The mean square error of the random forest regression is 400074.45 euro\n",
            "House 45 with 58.0 sqmt was sold for [340000.] euros, but our system predicted 234293.95\n",
            "House 67 with 50.0 sqmt was sold for [295000.] euros, but our system predicted 234293.95\n",
            "House 170 with 162.0 sqmt was sold for [570000.] euros, but our system predicted 751473.98\n",
            "House 189 with 77.0 sqmt was sold for [390000.] euros, but our system predicted 338065.50\n",
            "House 207 with 80.0 sqmt was sold for [290000.] euros, but our system predicted 234293.95\n",
            "The mean square error of the random forest regression is 373018.57 euro\n",
            "House 45 with 58.0 sqmt was sold for [340000.] euros, but our system predicted 235438.45\n",
            "House 67 with 50.0 sqmt was sold for [295000.] euros, but our system predicted 215634.52\n",
            "House 170 with 162.0 sqmt was sold for [570000.] euros, but our system predicted 707855.74\n",
            "House 189 with 77.0 sqmt was sold for [390000.] euros, but our system predicted 339825.29\n",
            "House 207 with 80.0 sqmt was sold for [290000.] euros, but our system predicted 264485.97\n",
            "The mean square error of the random forest regression is 379450.46 euro\n",
            "House 45 with 58.0 sqmt was sold for [340000.] euros, but our system predicted 239418.34\n",
            "House 67 with 50.0 sqmt was sold for [295000.] euros, but our system predicted 203676.77\n",
            "House 170 with 162.0 sqmt was sold for [570000.] euros, but our system predicted 628875.74\n",
            "House 189 with 77.0 sqmt was sold for [390000.] euros, but our system predicted 385194.83\n",
            "House 207 with 80.0 sqmt was sold for [290000.] euros, but our system predicted 273905.09\n",
            "The mean square error of the random forest regression is 386922.20 euro\n",
            "House 45 with 58.0 sqmt was sold for [340000.] euros, but our system predicted 270086.01\n",
            "House 67 with 50.0 sqmt was sold for [295000.] euros, but our system predicted 204122.52\n",
            "House 170 with 162.0 sqmt was sold for [570000.] euros, but our system predicted 657707.14\n",
            "House 189 with 77.0 sqmt was sold for [390000.] euros, but our system predicted 436291.06\n",
            "House 207 with 80.0 sqmt was sold for [290000.] euros, but our system predicted 276927.01\n",
            "The mean square error of the random forest regression is 416357.76 euro\n",
            "House 45 with 58.0 sqmt was sold for [340000.] euros, but our system predicted 436538.31\n",
            "House 67 with 50.0 sqmt was sold for [295000.] euros, but our system predicted 436538.31\n",
            "House 170 with 162.0 sqmt was sold for [570000.] euros, but our system predicted 436538.31\n",
            "House 189 with 77.0 sqmt was sold for [390000.] euros, but our system predicted 436538.31\n",
            "House 207 with 80.0 sqmt was sold for [290000.] euros, but our system predicted 436538.31\n",
            "The mean square error of the random forest regression is 483189.66 euro\n",
            "House 45 with 58.0 sqmt was sold for [340000.] euros, but our system predicted 319105.20\n",
            "House 67 with 50.0 sqmt was sold for [295000.] euros, but our system predicted 319105.20\n",
            "House 170 with 162.0 sqmt was sold for [570000.] euros, but our system predicted 761809.71\n",
            "House 189 with 77.0 sqmt was sold for [390000.] euros, but our system predicted 319105.20\n",
            "House 207 with 80.0 sqmt was sold for [290000.] euros, but our system predicted 319105.20\n",
            "The mean square error of the random forest regression is 398236.61 euro\n",
            "House 45 with 58.0 sqmt was sold for [340000.] euros, but our system predicted 232424.87\n",
            "House 67 with 50.0 sqmt was sold for [295000.] euros, but our system predicted 232424.87\n",
            "House 170 with 162.0 sqmt was sold for [570000.] euros, but our system predicted 768302.40\n",
            "House 189 with 77.0 sqmt was sold for [390000.] euros, but our system predicted 338406.02\n",
            "House 207 with 80.0 sqmt was sold for [290000.] euros, but our system predicted 239613.87\n",
            "The mean square error of the random forest regression is 368437.84 euro\n",
            "House 45 with 58.0 sqmt was sold for [340000.] euros, but our system predicted 225130.01\n",
            "House 67 with 50.0 sqmt was sold for [295000.] euros, but our system predicted 209471.31\n",
            "House 170 with 162.0 sqmt was sold for [570000.] euros, but our system predicted 704910.86\n",
            "House 189 with 77.0 sqmt was sold for [390000.] euros, but our system predicted 341552.58\n",
            "House 207 with 80.0 sqmt was sold for [290000.] euros, but our system predicted 262578.70\n",
            "The mean square error of the random forest regression is 358631.37 euro\n",
            "House 45 with 58.0 sqmt was sold for [340000.] euros, but our system predicted 241470.00\n",
            "House 67 with 50.0 sqmt was sold for [295000.] euros, but our system predicted 201212.36\n",
            "House 170 with 162.0 sqmt was sold for [570000.] euros, but our system predicted 651210.29\n",
            "House 189 with 77.0 sqmt was sold for [390000.] euros, but our system predicted 404273.48\n",
            "House 207 with 80.0 sqmt was sold for [290000.] euros, but our system predicted 279107.10\n",
            "The mean square error of the random forest regression is 389768.37 euro\n",
            "House 45 with 58.0 sqmt was sold for [340000.] euros, but our system predicted 261585.07\n",
            "House 67 with 50.0 sqmt was sold for [295000.] euros, but our system predicted 200515.98\n",
            "House 170 with 162.0 sqmt was sold for [570000.] euros, but our system predicted 652056.03\n",
            "House 189 with 77.0 sqmt was sold for [390000.] euros, but our system predicted 381213.70\n",
            "House 207 with 80.0 sqmt was sold for [290000.] euros, but our system predicted 277993.61\n",
            "The mean square error of the random forest regression is 381555.68 euro\n",
            "House 45 with 58.0 sqmt was sold for [340000.] euros, but our system predicted 433991.48\n",
            "House 67 with 50.0 sqmt was sold for [295000.] euros, but our system predicted 433991.48\n",
            "House 170 with 162.0 sqmt was sold for [570000.] euros, but our system predicted 433991.48\n",
            "House 189 with 77.0 sqmt was sold for [390000.] euros, but our system predicted 433991.48\n",
            "House 207 with 80.0 sqmt was sold for [290000.] euros, but our system predicted 433991.48\n",
            "The mean square error of the random forest regression is 483113.01 euro\n",
            "House 45 with 58.0 sqmt was sold for [340000.] euros, but our system predicted 321284.39\n",
            "House 67 with 50.0 sqmt was sold for [295000.] euros, but our system predicted 321284.39\n",
            "House 170 with 162.0 sqmt was sold for [570000.] euros, but our system predicted 776508.58\n",
            "House 189 with 77.0 sqmt was sold for [390000.] euros, but our system predicted 321284.39\n",
            "House 207 with 80.0 sqmt was sold for [290000.] euros, but our system predicted 321284.39\n",
            "The mean square error of the random forest regression is 396973.13 euro\n",
            "House 45 with 58.0 sqmt was sold for [340000.] euros, but our system predicted 233900.09\n",
            "House 67 with 50.0 sqmt was sold for [295000.] euros, but our system predicted 233900.09\n",
            "House 170 with 162.0 sqmt was sold for [570000.] euros, but our system predicted 767997.17\n",
            "House 189 with 77.0 sqmt was sold for [390000.] euros, but our system predicted 342675.17\n",
            "House 207 with 80.0 sqmt was sold for [290000.] euros, but our system predicted 238117.05\n",
            "The mean square error of the random forest regression is 365414.76 euro\n",
            "House 45 with 58.0 sqmt was sold for [340000.] euros, but our system predicted 235789.88\n",
            "House 67 with 50.0 sqmt was sold for [295000.] euros, but our system predicted 211097.27\n",
            "House 170 with 162.0 sqmt was sold for [570000.] euros, but our system predicted 705462.10\n",
            "House 189 with 77.0 sqmt was sold for [390000.] euros, but our system predicted 348412.99\n",
            "House 207 with 80.0 sqmt was sold for [290000.] euros, but our system predicted 263560.01\n",
            "The mean square error of the random forest regression is 366960.81 euro\n",
            "House 45 with 58.0 sqmt was sold for [340000.] euros, but our system predicted 258771.36\n",
            "House 67 with 50.0 sqmt was sold for [295000.] euros, but our system predicted 200317.01\n",
            "House 170 with 162.0 sqmt was sold for [570000.] euros, but our system predicted 635417.63\n",
            "House 189 with 77.0 sqmt was sold for [390000.] euros, but our system predicted 384969.07\n",
            "House 207 with 80.0 sqmt was sold for [290000.] euros, but our system predicted 272496.12\n",
            "The mean square error of the random forest regression is 380611.96 euro\n",
            "House 45 with 58.0 sqmt was sold for [340000.] euros, but our system predicted 251782.41\n",
            "House 67 with 50.0 sqmt was sold for [295000.] euros, but our system predicted 200190.37\n",
            "House 170 with 162.0 sqmt was sold for [570000.] euros, but our system predicted 634763.49\n",
            "House 189 with 77.0 sqmt was sold for [390000.] euros, but our system predicted 397562.13\n",
            "House 207 with 80.0 sqmt was sold for [290000.] euros, but our system predicted 271625.72\n",
            "The mean square error of the random forest regression is 387413.81 euro\n",
            "House 45 with 58.0 sqmt was sold for [340000.] euros, but our system predicted 435316.11\n",
            "House 67 with 50.0 sqmt was sold for [295000.] euros, but our system predicted 435316.11\n",
            "House 170 with 162.0 sqmt was sold for [570000.] euros, but our system predicted 435316.11\n",
            "House 189 with 77.0 sqmt was sold for [390000.] euros, but our system predicted 435316.11\n",
            "House 207 with 80.0 sqmt was sold for [290000.] euros, but our system predicted 435316.11\n",
            "The mean square error of the random forest regression is 483249.96 euro\n",
            "House 45 with 58.0 sqmt was sold for [340000.] euros, but our system predicted 322257.48\n",
            "House 67 with 50.0 sqmt was sold for [295000.] euros, but our system predicted 322257.48\n",
            "House 170 with 162.0 sqmt was sold for [570000.] euros, but our system predicted 778287.62\n",
            "House 189 with 77.0 sqmt was sold for [390000.] euros, but our system predicted 322257.48\n",
            "House 207 with 80.0 sqmt was sold for [290000.] euros, but our system predicted 322257.48\n",
            "The mean square error of the random forest regression is 397151.71 euro\n",
            "House 45 with 58.0 sqmt was sold for [340000.] euros, but our system predicted 233484.43\n",
            "House 67 with 50.0 sqmt was sold for [295000.] euros, but our system predicted 233484.43\n",
            "House 170 with 162.0 sqmt was sold for [570000.] euros, but our system predicted 767020.74\n",
            "House 189 with 77.0 sqmt was sold for [390000.] euros, but our system predicted 337978.98\n",
            "House 207 with 80.0 sqmt was sold for [290000.] euros, but our system predicted 240553.01\n",
            "The mean square error of the random forest regression is 367766.33 euro\n",
            "House 45 with 58.0 sqmt was sold for [340000.] euros, but our system predicted 231321.83\n",
            "House 67 with 50.0 sqmt was sold for [295000.] euros, but our system predicted 208980.80\n",
            "House 170 with 162.0 sqmt was sold for [570000.] euros, but our system predicted 711283.53\n",
            "House 189 with 77.0 sqmt was sold for [390000.] euros, but our system predicted 343846.94\n",
            "House 207 with 80.0 sqmt was sold for [290000.] euros, but our system predicted 261506.81\n",
            "The mean square error of the random forest regression is 365922.73 euro\n",
            "House 45 with 58.0 sqmt was sold for [340000.] euros, but our system predicted 253044.75\n",
            "House 67 with 50.0 sqmt was sold for [295000.] euros, but our system predicted 201169.42\n",
            "House 170 with 162.0 sqmt was sold for [570000.] euros, but our system predicted 646499.12\n",
            "House 189 with 77.0 sqmt was sold for [390000.] euros, but our system predicted 381733.05\n",
            "House 207 with 80.0 sqmt was sold for [290000.] euros, but our system predicted 274761.24\n",
            "The mean square error of the random forest regression is 381966.44 euro\n",
            "House 45 with 58.0 sqmt was sold for [340000.] euros, but our system predicted 257734.35\n",
            "House 67 with 50.0 sqmt was sold for [295000.] euros, but our system predicted 200061.92\n",
            "House 170 with 162.0 sqmt was sold for [570000.] euros, but our system predicted 640137.25\n",
            "House 189 with 77.0 sqmt was sold for [390000.] euros, but our system predicted 394443.63\n",
            "House 207 with 80.0 sqmt was sold for [290000.] euros, but our system predicted 274641.61\n",
            "The mean square error of the random forest regression is 385946.95 euro\n",
            "\n",
            "Best hyperparameters: n_estimators=25, max_depth=8, Best MSE=358631.3668903675\n"
          ]
        }
      ],
      "source": [
        "# TODO implement here\n",
        "# Define hyperparameter values to experiment with\n",
        "n_estimators_values = [10, 25, 100, 200]\n",
        "max_depth_values = [1, 2, 4, 8, 16, None]\n",
        "\n",
        "best_n_estimators = None\n",
        "best_max_depth = None\n",
        "best_error = float('inf')\n",
        "\n",
        "training_data_y = np.ravel(training_data_y)\n",
        "# Loop through hyperparameter values\n",
        "for n_estimator in n_estimators_values:\n",
        "    for max_dep in max_depth_values:\n",
        "        # Create and train the RandomForestRegressor\n",
        "        model = sklearn.ensemble.RandomForestRegressor(n_estimators=n_estimator, max_depth=max_dep)\n",
        "        model.fit(training_data_x, training_data_y)\n",
        "\n",
        "        # Make predictions on the test set\n",
        "        y_preds= model.predict(test_data_x)\n",
        "\n",
        "        # Now, print some examples of the quality of the classifier\n",
        "        examples = [45, 67, 170, 189, 207]\n",
        "        for i in examples:\n",
        "          x = test_data_x[i]\n",
        "          y = test_data_y[i]\n",
        "          y_pred = model.predict([x])[0]\n",
        "          print(f\"House {i} with {x[0]} sqmt was sold for {y} euros, but our system predicted {y_pred:.2f}\")\n",
        "        # Now calculate the root mean square error on the resulting arrays\n",
        "        error = sklearn.metrics.mean_squared_error(y_preds, test_data_y, squared=False)\n",
        "        print(f\"The mean square error of the random forest regression is {error:.2f} euro\")\n",
        "\n",
        "        # Update best hyperparameters if the current model performs better\n",
        "        if error < best_error:\n",
        "            best_error = error\n",
        "            best_n_estimators = n_estimator\n",
        "            best_max_depth = max_dep\n",
        "\n",
        "# Print the best hyperparameter values\n",
        "print(f\"\\nBest hyperparameters: n_estimators={best_n_estimators}, max_depth={best_max_depth}, Best MSE={best_error}\")"
      ]
    },
    {
      "cell_type": "markdown",
      "id": "fbe6a914",
      "metadata": {
        "id": "fbe6a914"
      },
      "source": [
        "# Questions:\n",
        "* Q: Do you find that Random Forest performs better than the previous approaches you implemented? Discuss.\n",
        "* A: Yes, comaring to the best MSE of implementation of both RandomForestRegressor and KNeighborsRegressor, the random forest tends to permform about 10000 lower than the k-neighbor do.\n",
        "* Q: Explain the impact of the number of estimators and max tree depth hyperparameters on the accuracy. Which hyperparameter setting gives you the best value? Is this the same as the default settings in sklearn?\n",
        "* A: After running the model many times, the best accuracy always sit at max tree depth of 8 and number of estimator 25, 100, or 200. It is not the default settings since even the same parameters would produce different output every time. It depends on the random parts of the algorithm\n",
        "* Q: Explain the impact of the hyperparameters on the training time.\n",
        "* A: The more or the larger hyperparameters we have, the longer training time it takes.\n"
      ]
    },
    {
      "cell_type": "markdown",
      "id": "e98e415f",
      "metadata": {
        "id": "e98e415f"
      },
      "source": [
        "# P2: AdaBoost using sklearn (5 points)\n",
        "\n",
        "Use the AdaBoost function from sklearn to predict the prices of the house. Print the resulting error and samples, similar to the way in Section B.\n",
        "\n",
        "Experiment with the settings of the hyperparameters: loss (try \"linear\", \"square\" and \"exponential) and learning_rate (try at least values 0.2, 0.5, 1 and 2)"
      ]
    },
    {
      "cell_type": "code",
      "execution_count": 51,
      "id": "fa7b135a",
      "metadata": {
        "colab": {
          "base_uri": "https://localhost:8080/"
        },
        "id": "fa7b135a",
        "outputId": "9dfe4242-00a2-4d2a-bc44-ffa639f04847"
      },
      "outputs": [
        {
          "output_type": "stream",
          "name": "stdout",
          "text": [
            "House 45 with 58.0 sqmt was sold for [340000.] euros, but our system predicted 313594.84\n",
            "House 67 with 50.0 sqmt was sold for [295000.] euros, but our system predicted 313594.84\n",
            "House 170 with 162.0 sqmt was sold for [570000.] euros, but our system predicted 756494.61\n",
            "House 189 with 77.0 sqmt was sold for [390000.] euros, but our system predicted 313594.84\n",
            "House 207 with 80.0 sqmt was sold for [290000.] euros, but our system predicted 313594.84\n",
            "The mean square error of the AdaBoost regression is 398806.26 euro\n",
            "House 45 with 58.0 sqmt was sold for [340000.] euros, but our system predicted 328190.86\n",
            "House 67 with 50.0 sqmt was sold for [295000.] euros, but our system predicted 328190.86\n",
            "House 170 with 162.0 sqmt was sold for [570000.] euros, but our system predicted 756494.61\n",
            "House 189 with 77.0 sqmt was sold for [390000.] euros, but our system predicted 328190.86\n",
            "House 207 with 80.0 sqmt was sold for [290000.] euros, but our system predicted 328190.86\n",
            "The mean square error of the AdaBoost regression is 406178.84 euro\n",
            "House 45 with 58.0 sqmt was sold for [340000.] euros, but our system predicted 350336.35\n",
            "House 67 with 50.0 sqmt was sold for [295000.] euros, but our system predicted 350336.35\n",
            "House 170 with 162.0 sqmt was sold for [570000.] euros, but our system predicted 756494.61\n",
            "House 189 with 77.0 sqmt was sold for [390000.] euros, but our system predicted 350336.35\n",
            "House 207 with 80.0 sqmt was sold for [290000.] euros, but our system predicted 350336.35\n",
            "The mean square error of the AdaBoost regression is 421779.44 euro\n",
            "House 45 with 58.0 sqmt was sold for [340000.] euros, but our system predicted 340836.48\n",
            "House 67 with 50.0 sqmt was sold for [295000.] euros, but our system predicted 340836.48\n",
            "House 170 with 162.0 sqmt was sold for [570000.] euros, but our system predicted 756494.61\n",
            "House 189 with 77.0 sqmt was sold for [390000.] euros, but our system predicted 340836.48\n",
            "House 207 with 80.0 sqmt was sold for [290000.] euros, but our system predicted 340836.48\n",
            "The mean square error of the AdaBoost regression is 444983.42 euro\n",
            "House 45 with 58.0 sqmt was sold for [340000.] euros, but our system predicted 307109.04\n",
            "House 67 with 50.0 sqmt was sold for [295000.] euros, but our system predicted 307109.04\n",
            "House 170 with 162.0 sqmt was sold for [570000.] euros, but our system predicted 740258.52\n",
            "House 189 with 77.0 sqmt was sold for [390000.] euros, but our system predicted 307109.04\n",
            "House 207 with 80.0 sqmt was sold for [290000.] euros, but our system predicted 307109.04\n",
            "The mean square error of the AdaBoost regression is 414279.95 euro\n",
            "House 45 with 58.0 sqmt was sold for [340000.] euros, but our system predicted 297613.26\n",
            "House 67 with 50.0 sqmt was sold for [295000.] euros, but our system predicted 297613.26\n",
            "House 170 with 162.0 sqmt was sold for [570000.] euros, but our system predicted 756494.61\n",
            "House 189 with 77.0 sqmt was sold for [390000.] euros, but our system predicted 297613.26\n",
            "House 207 with 80.0 sqmt was sold for [290000.] euros, but our system predicted 297613.26\n",
            "The mean square error of the AdaBoost regression is 411341.36 euro\n",
            "House 45 with 58.0 sqmt was sold for [340000.] euros, but our system predicted 358023.17\n",
            "House 67 with 50.0 sqmt was sold for [295000.] euros, but our system predicted 358023.17\n",
            "House 170 with 162.0 sqmt was sold for [570000.] euros, but our system predicted 756494.61\n",
            "House 189 with 77.0 sqmt was sold for [390000.] euros, but our system predicted 358023.17\n",
            "House 207 with 80.0 sqmt was sold for [290000.] euros, but our system predicted 358023.17\n",
            "The mean square error of the AdaBoost regression is 407612.61 euro\n",
            "House 45 with 58.0 sqmt was sold for [340000.] euros, but our system predicted 1525247.90\n",
            "House 67 with 50.0 sqmt was sold for [295000.] euros, but our system predicted 1525247.90\n",
            "House 170 with 162.0 sqmt was sold for [570000.] euros, but our system predicted 1525247.90\n",
            "House 189 with 77.0 sqmt was sold for [390000.] euros, but our system predicted 1525247.90\n",
            "House 207 with 80.0 sqmt was sold for [290000.] euros, but our system predicted 1525247.90\n",
            "The mean square error of the AdaBoost regression is 1085840.36 euro\n",
            "House 45 with 58.0 sqmt was sold for [340000.] euros, but our system predicted 320220.97\n",
            "House 67 with 50.0 sqmt was sold for [295000.] euros, but our system predicted 320220.97\n",
            "House 170 with 162.0 sqmt was sold for [570000.] euros, but our system predicted 725760.42\n",
            "House 189 with 77.0 sqmt was sold for [390000.] euros, but our system predicted 320220.97\n",
            "House 207 with 80.0 sqmt was sold for [290000.] euros, but our system predicted 320220.97\n",
            "The mean square error of the AdaBoost regression is 392894.74 euro\n",
            "House 45 with 58.0 sqmt was sold for [340000.] euros, but our system predicted 414888.79\n",
            "House 67 with 50.0 sqmt was sold for [295000.] euros, but our system predicted 414888.79\n",
            "House 170 with 162.0 sqmt was sold for [570000.] euros, but our system predicted 762115.93\n",
            "House 189 with 77.0 sqmt was sold for [390000.] euros, but our system predicted 414888.79\n",
            "House 207 with 80.0 sqmt was sold for [290000.] euros, but our system predicted 414888.79\n",
            "The mean square error of the AdaBoost regression is 430715.18 euro\n",
            "House 45 with 58.0 sqmt was sold for [340000.] euros, but our system predicted 561147.12\n",
            "House 67 with 50.0 sqmt was sold for [295000.] euros, but our system predicted 561147.12\n",
            "House 170 with 162.0 sqmt was sold for [570000.] euros, but our system predicted 855351.03\n",
            "House 189 with 77.0 sqmt was sold for [390000.] euros, but our system predicted 561147.12\n",
            "House 207 with 80.0 sqmt was sold for [290000.] euros, but our system predicted 561147.12\n",
            "The mean square error of the AdaBoost regression is 514677.62 euro\n",
            "House 45 with 58.0 sqmt was sold for [340000.] euros, but our system predicted 932025.08\n",
            "House 67 with 50.0 sqmt was sold for [295000.] euros, but our system predicted 932025.08\n",
            "House 170 with 162.0 sqmt was sold for [570000.] euros, but our system predicted 932025.08\n",
            "House 189 with 77.0 sqmt was sold for [390000.] euros, but our system predicted 932025.08\n",
            "House 207 with 80.0 sqmt was sold for [290000.] euros, but our system predicted 932025.08\n",
            "The mean square error of the AdaBoost regression is 800736.39 euro\n",
            "\n",
            "Best hyperparameters: loss=exponential, learning_rate=0.2, Best MSE=392894.7388497663\n"
          ]
        }
      ],
      "source": [
        "# TODO implement here\n",
        "loss_values = [\"linear\", \"square\", \"exponential\"]\n",
        "learning_rate_values = [0.2, 0.5, 1, 2]\n",
        "\n",
        "best_loss = None\n",
        "best_learning_rate = None\n",
        "best_error = float('inf')\n",
        "\n",
        "# Loop through hyperparameter values' combinations\n",
        "for cur_loss in loss_values:\n",
        "    for cur_learning_rate in learning_rate_values:\n",
        "        model = sklearn.ensemble.AdaBoostRegressor(loss=cur_loss, learning_rate=cur_learning_rate, random_state=42)\n",
        "        model.fit(training_data_x, training_data_y)\n",
        "\n",
        "        y_hats = []\n",
        "        for x in test_data_x:\n",
        "            yhat = model.predict([x])\n",
        "            y_hats.append(yhat[0])\n",
        "\n",
        "        for i in examples:\n",
        "          x = test_data_x[i]\n",
        "          y = test_data_y[i]\n",
        "          y_hat = model.predict([x])[0]\n",
        "          print(f\"House {i} with {x[0]} sqmt was sold for {y} euros, but our system predicted {y_hat:.2f}\")\n",
        "        error = sklearn.metrics.mean_squared_error(y_hats, test_data_y, squared=False)\n",
        "        print(f\"The mean square error of the AdaBoost regression is {error:.2f} euro\")\n",
        "\n",
        "        # Update best hyperparameters\n",
        "        if error < best_error:\n",
        "            best_error = error\n",
        "            best_loss = cur_loss\n",
        "            best_learning_rate = cur_learning_rate\n",
        "\n",
        "print(f\"\\nBest hyperparameters: loss={best_loss}, learning_rate={best_learning_rate}, Best MSE={best_error}\")\n"
      ]
    },
    {
      "cell_type": "markdown",
      "id": "165b9e5c",
      "metadata": {
        "id": "165b9e5c"
      },
      "source": [
        "# Questions:\n",
        "* Q: Do you find that Adaboost performs better than the previous approaches you implemented? Discuss.\n",
        "* A: No, the best mse is about 20000 higher than the previous one.\n",
        "* Q: Explain the impact of the loss and the learning_rate hyperparameters on the accuracy. Which hyperparameter setting gives you the best value? Is this the same as the default settings in sklearn?\n",
        "* A: The best hyperparameter is loss of exponential and learning rate of 0.2, which is same everytime I run it. So it should be the default settiings in sklearn.\n",
        "* Q: Explain the impact of the hyperparameters on the training time.\n",
        "* A: It took about the same time for hyperparameters on the training."
      ]
    }
  ],
  "metadata": {
    "kernelspec": {
      "display_name": "Python 3",
      "language": "python",
      "name": "python3"
    },
    "language_info": {
      "codemirror_mode": {
        "name": "ipython",
        "version": 3
      },
      "file_extension": ".py",
      "mimetype": "text/x-python",
      "name": "python",
      "nbconvert_exporter": "python",
      "pygments_lexer": "ipython3",
      "version": "3.10.10"
    },
    "colab": {
      "provenance": []
    }
  },
  "nbformat": 4,
  "nbformat_minor": 5
}